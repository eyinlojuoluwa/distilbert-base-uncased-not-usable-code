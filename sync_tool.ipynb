{
 "cells": [
  {
   "cell_type": "code",
   "execution_count": null,
   "id": "f977af2e",
   "metadata": {},
   "outputs": [],
   "source": [
    "import pandas as pd\n",
    "import torch\n",
    "import torch.nn as nn\n",
    "import numpy as np\n",
    "import re\n",
    "from transformers import AutoTokenizer, DistilBertTokenizer, DistilBertForSequenceClassification, AutoModelForSequenceClassification, Trainer, TrainingArguments, DistilBertConfig\n",
    "from datasets import Dataset\n",
    "from sklearn.model_selection import train_test_split\n",
    "from sklearn.preprocessing import LabelEncoder\n",
    "from sklearn.metrics import accuracy_score, precision_recall_fscore_support\n",
    "from sklearn.utils.class_weight import compute_class_weight\n",
    "import matplotlib.pyplot as plt\n",
    "from nltk.corpus import wordnet\n",
    "import random\n",
    "from imblearn.over_sampling import SMOTE\n",
    "from sklearn.feature_extraction.text import TfidfVectorizer\n",
    "from torch.nn import CrossEntropyLoss\n",
    "import nltk\n",
    "from transformers import DistilBertTokenizer\n",
    "from sklearn.metrics import classification_report\n",
    "from huggingface_hub import create_repo\n",
    "import os\n",
    "from git import Repo  # For interacting with Git\n",
    "from huggingface_hub import HfApi\n",
    "import shutil"
   ]
  },
  {
   "cell_type": "code",
   "execution_count": null,
   "id": "259774d8",
   "metadata": {},
   "outputs": [],
   "source": [
    "!cd \"/Users/adekunleajibode/Documents/GH_repo/distilbert-base-uncased-not-usable-code\" && git init\n",
    "!cd \"/Users/adekunleajibode/Documents/GH_repo/distilbert-base-uncased-not-usable-code\" && git add .\n",
    "\n",
    "!cd \"/Users/adekunleajibode/Documents/GH_repo/distilbert-base-uncased-not-usable-code\" && git commit -m \"Initial commit\"\n",
    "!cd \"/Users/adekunleajibode/Documents/GH_repo/distilbert-base-uncased-not-usable-code\" && git remote add origin https://github.com/eyinlojuoluwa/distilbert-base-uncased-not-usable-code.git\n",
    "!cd \"/Users/adekunleajibode/Documents/GH_repo/distilbert-base-uncased-not-usable-code\" && git push -u origin main"
   ]
  },
  {
   "cell_type": "code",
   "execution_count": null,
   "id": "764a3271",
   "metadata": {},
   "outputs": [],
   "source": [
    "import json\n",
    "import os\n",
    "import shutil\n",
    "from transformers import DistilBertForSequenceClassification, DistilBertTokenizer\n",
    "from huggingface_hub import create_repo, login, whoami\n",
    "import os\n",
    "import shutil\n",
    "from git import Repo\n",
    "from git.exc import GitCommandError\n",
    "\n",
    "\n",
    "# Load tokens from the tokens.json file\n",
    "with open(\"tokens.json\", \"r\") as f:\n",
    "    tokens = json.load(f)\n",
    "\n",
    "HUGGINGFACE_TOKEN = tokens[\"HUGGINGFACE_TOKEN\"]\n",
    "GITHUB_TOKEN = tokens[\"GITHUB_TOKEN\"]\n",
    "\n",
    "# --- Configuration ---\n",
    "MODEL_DIR = \"./final_model\"\n",
    "GITHUB_REPO_PATH = \"/Users/adekunleajibode/Documents/GH_repo/distilbert-base-uncased-not-usable-code\"\n",
    "HUGGINGFACE_REPO_NAME = \"distilbert-base-uncased-not-usable\"\n",
    "GITHUB_COMMIT_MESSAGE = \"Auto-push: Updated notebooks\"\n",
    "HUGGINGFACE_COMMIT_MESSAGE = \"Upload fine-tuned model\"\n",
    "\n",
    "# --- Hugging Face Auth + Upload ---\n",
    "login(token=HUGGINGFACE_TOKEN)\n",
    "print(f\"Logged in as: {whoami()['name']}\")\n",
    "create_repo(HUGGINGFACE_REPO_NAME, exist_ok=True)\n",
    "\n",
    "model = DistilBertForSequenceClassification.from_pretrained(MODEL_DIR)\n",
    "tokenizer = DistilBertTokenizer.from_pretrained(MODEL_DIR)\n",
    "\n",
    "model.push_to_hub(HUGGINGFACE_REPO_NAME, commit_message=HUGGINGFACE_COMMIT_MESSAGE)\n",
    "tokenizer.push_to_hub(HUGGINGFACE_REPO_NAME, commit_message=HUGGINGFACE_COMMIT_MESSAGE)\n",
    "print(\"✅ Model and tokenizer pushed to Hugging Face.\")\n",
    "\n",
    "# --- GitHub Notebook File Sync ---\n",
    "# Specify the exact notebook file to push (change this as needed)\n",
    "notebook_to_push = \"sync_tool.ipynb\"  # Specify the exact file here\n",
    "\n",
    "# Replace the file in the GitHub repo\n",
    "src = os.path.join(os.getcwd(), notebook_to_push)\n",
    "dst = os.path.join(GITHUB_REPO_PATH, notebook_to_push)\n",
    "\n",
    "if os.path.exists(dst):\n",
    "    os.remove(dst)\n",
    "    print(f\"Removed existing file: {dst}\")\n",
    "shutil.copy(src, dst)\n",
    "print(f\"Copied {notebook_to_push} to GitHub repository.\")\n",
    "\n",
    "# --- GitHub Commit & Push ---\n",
    "os.chdir(GITHUB_REPO_PATH)\n",
    "os.system(\"git init\")\n",
    "os.system(\"git add .\")\n",
    "os.system(f'git commit -m \"{GITHUB_COMMIT_MESSAGE}\"')\n",
    "os.system(\"git branch -M main\")\n",
    "os.system(\"git remote remove origin || true\")\n",
    "os.system(\"git remote add origin https://github.com/eyinlojuoluwa/distilbert-base-uncased-not-usable-code.git\")\n",
    "os.system(\"git push -u origin main\")\n",
    "print(\"✅ Code pushed to GitHub.\")\n"
   ]
  },
  {
   "cell_type": "code",
   "execution_count": null,
   "id": "f986fe39",
   "metadata": {},
   "outputs": [],
   "source": []
  },
  {
   "cell_type": "code",
   "execution_count": null,
   "id": "198370bc",
   "metadata": {},
   "outputs": [],
   "source": []
  },
  {
   "cell_type": "code",
   "execution_count": null,
   "id": "4d1ded38",
   "metadata": {},
   "outputs": [],
   "source": []
  },
  {
   "cell_type": "code",
   "execution_count": null,
   "id": "417cf221",
   "metadata": {},
   "outputs": [],
   "source": []
  },
  {
   "cell_type": "code",
   "execution_count": null,
   "id": "e8bbe766",
   "metadata": {},
   "outputs": [],
   "source": []
  },
  {
   "cell_type": "code",
   "execution_count": null,
   "id": "e296121a",
   "metadata": {},
   "outputs": [],
   "source": []
  },
  {
   "cell_type": "code",
   "execution_count": null,
   "id": "32bb4535",
   "metadata": {},
   "outputs": [],
   "source": []
  },
  {
   "cell_type": "code",
   "execution_count": null,
   "id": "11ffa5d0",
   "metadata": {},
   "outputs": [],
   "source": [
    "import os\n",
    "print(os.getcwd())"
   ]
  },
  {
   "cell_type": "code",
   "execution_count": null,
   "id": "1ec6b411",
   "metadata": {},
   "outputs": [],
   "source": []
  },
  {
   "cell_type": "code",
   "execution_count": null,
   "id": "8457ce2c",
   "metadata": {},
   "outputs": [],
   "source": []
  },
  {
   "cell_type": "code",
   "execution_count": null,
   "id": "b78aeb84",
   "metadata": {},
   "outputs": [],
   "source": []
  },
  {
   "cell_type": "code",
   "execution_count": null,
   "id": "0d12c06e",
   "metadata": {},
   "outputs": [],
   "source": []
  },
  {
   "cell_type": "code",
   "execution_count": null,
   "id": "1568934f",
   "metadata": {},
   "outputs": [],
   "source": []
  },
  {
   "cell_type": "code",
   "execution_count": null,
   "id": "d5f50f0f",
   "metadata": {},
   "outputs": [],
   "source": [
    "ls /Users/your_username/Documents/GH_repo/distilbert-base-uncased-not-usable-code/.git"
   ]
  },
  {
   "cell_type": "code",
   "execution_count": null,
   "id": "b64c4620",
   "metadata": {},
   "outputs": [],
   "source": [
    "import os\n",
    "\n",
    "# Define the path\n",
    "repo_path = \"/Users/adekunleajibode/Documents/GH_repo/distilbert-base-uncased-not-usable-code\"\n",
    "\n",
    "# List files in the directory\n",
    "files = os.listdir(repo_path)\n",
    "print(files)"
   ]
  },
  {
   "cell_type": "code",
   "execution_count": null,
   "id": "3015dab5",
   "metadata": {},
   "outputs": [],
   "source": []
  },
  {
   "cell_type": "code",
   "execution_count": null,
   "id": "62f3a038",
   "metadata": {},
   "outputs": [],
   "source": [
    "repo_name = \"distilbert-base-uncased-not-usable\"  # Change this to your preferred repository name\n",
    "create_repo(repo_name)\n",
    "\n",
    "# Replace these with your actual paths\n",
    "model_dir = \"./final_model\"\n",
    "\n",
    "# Push model, tokenizer, and config to Hugging Face Hub\n",
    "model = DistilBertForSequenceClassification.from_pretrained(model_dir)\n",
    "tokenizer = DistilBertTokenizer.from_pretrained(model_dir)\n",
    "\n",
    "model.push_to_hub(repo_name)\n",
    "tokenizer.push_to_hub(repo_name)"
   ]
  },
  {
   "cell_type": "code",
   "execution_count": 1,
   "id": "163137a8",
   "metadata": {},
   "outputs": [
    {
     "name": "stdout",
     "output_type": "stream",
     "text": [
      "Hugging Face Token: None\n",
      "GitHub Token: None\n"
     ]
    }
   ],
   "source": [
    "import os\n",
    "\n",
    "# Get the tokens from the environment variables\n",
    "huggingface_token = os.getenv(\"HUGGINGFACE_TOKEN\")\n",
    "github_token = os.getenv(\"GITHUB_TOKEN\")\n",
    "\n",
    "# Now you can use the tokens in your code\n",
    "print(\"Hugging Face Token:\", huggingface_token)\n",
    "print(\"GitHub Token:\", github_token)"
   ]
  },
  {
   "cell_type": "code",
   "execution_count": 2,
   "id": "468447b9",
   "metadata": {},
   "outputs": [
    {
     "data": {
      "text/plain": [
       "'/Users/adekunleajibode/Paper2'"
      ]
     },
     "execution_count": 2,
     "metadata": {},
     "output_type": "execute_result"
    }
   ],
   "source": [
    "pwd"
   ]
  },
  {
   "cell_type": "code",
   "execution_count": null,
   "id": "d934a19b",
   "metadata": {},
   "outputs": [],
   "source": []
  },
  {
   "cell_type": "code",
   "execution_count": null,
   "id": "9a2d3213",
   "metadata": {},
   "outputs": [],
   "source": []
  }
 ],
 "metadata": {
  "kernelspec": {
   "display_name": "Python 3 (ipykernel)",
   "language": "python",
   "name": "python3"
  },
  "language_info": {
   "codemirror_mode": {
    "name": "ipython",
    "version": 3
   },
   "file_extension": ".py",
   "mimetype": "text/x-python",
   "name": "python",
   "nbconvert_exporter": "python",
   "pygments_lexer": "ipython3",
   "version": "3.11.4"
  }
 },
 "nbformat": 4,
 "nbformat_minor": 5
}
