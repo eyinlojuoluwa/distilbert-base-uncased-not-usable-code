{
 "cells": [
  {
   "cell_type": "code",
   "execution_count": null,
   "id": "546870ab",
   "metadata": {},
   "outputs": [],
   "source": [
    "import pandas as pd\n",
    "import torch\n",
    "import torch.nn as nn\n",
    "import numpy as np\n",
    "import re\n",
    "from transformers import AutoTokenizer, DistilBertTokenizer, DistilBertForSequenceClassification, AutoModelForSequenceClassification, Trainer, TrainingArguments, DistilBertConfig\n",
    "from datasets import Dataset\n",
    "from sklearn.model_selection import train_test_split\n",
    "from sklearn.preprocessing import LabelEncoder\n",
    "from sklearn.metrics import accuracy_score, precision_recall_fscore_support\n",
    "from sklearn.utils.class_weight import compute_class_weight\n",
    "import matplotlib.pyplot as plt\n",
    "from nltk.corpus import wordnet\n",
    "import random\n",
    "from imblearn.over_sampling import SMOTE\n",
    "from sklearn.feature_extraction.text import TfidfVectorizer\n",
    "from torch.nn import CrossEntropyLoss\n",
    "import nltk\n",
    "from transformers import DistilBertTokenizer\n",
    "from sklearn.metrics import classification_report\n",
    "from huggingface_hub import create_repo\n",
    "import os\n",
    "from git import Repo  # For interacting with Git\n",
    "from huggingface_hub import HfApi\n",
    "import shutil"
   ]
  },
  {
   "cell_type": "code",
   "execution_count": null,
   "id": "cfef6ddd",
   "metadata": {},
   "outputs": [],
   "source": [
    "!cd \"/Users/adekunleajibode/Documents/GH_repo/distilbert-base-uncased-not-usable-code\" && git init\n",
    "!cd \"/Users/adekunleajibode/Documents/GH_repo/distilbert-base-uncased-not-usable-code\" && git add .\n",
    "\n",
    "!cd \"/Users/adekunleajibode/Documents/GH_repo/distilbert-base-uncased-not-usable-code\" && git commit -m \"Initial commit\"\n",
    "!cd \"/Users/adekunleajibode/Documents/GH_repo/distilbert-base-uncased-not-usable-code\" && git remote add origin https://github.com/eyinlojuoluwa/distilbert-base-uncased-not-usable-code.git\n",
    "!cd \"/Users/adekunleajibode/Documents/GH_repo/distilbert-base-uncased-not-usable-code\" && git push -u origin main"
   ]
  },
  {
   "cell_type": "code",
   "execution_count": 5,
   "id": "9f822786",
   "metadata": {},
   "outputs": [
    {
     "ename": "FileNotFoundError",
     "evalue": "[Errno 2] No such file or directory: 'tokens.json'",
     "output_type": "error",
     "traceback": [
      "\u001b[0;31m---------------------------------------------------------------------------\u001b[0m",
      "\u001b[0;31mFileNotFoundError\u001b[0m                         Traceback (most recent call last)",
      "Cell \u001b[0;32mIn[5], line 12\u001b[0m\n\u001b[1;32m      8\u001b[0m \u001b[38;5;28;01mfrom\u001b[39;00m \u001b[38;5;21;01mgit\u001b[39;00m \u001b[38;5;28;01mimport\u001b[39;00m Repo\n\u001b[1;32m      9\u001b[0m \u001b[38;5;28;01mfrom\u001b[39;00m \u001b[38;5;21;01mgit\u001b[39;00m\u001b[38;5;21;01m.\u001b[39;00m\u001b[38;5;21;01mexc\u001b[39;00m \u001b[38;5;28;01mimport\u001b[39;00m GitCommandError\n\u001b[0;32m---> 12\u001b[0m \u001b[38;5;28;01mwith\u001b[39;00m \u001b[38;5;28mopen\u001b[39m(\u001b[38;5;124m\"\u001b[39m\u001b[38;5;124mtokens.json\u001b[39m\u001b[38;5;124m\"\u001b[39m, \u001b[38;5;124m\"\u001b[39m\u001b[38;5;124mr\u001b[39m\u001b[38;5;124m\"\u001b[39m) \u001b[38;5;28;01mas\u001b[39;00m f:\n\u001b[1;32m     13\u001b[0m     tokens \u001b[38;5;241m=\u001b[39m json\u001b[38;5;241m.\u001b[39mload(f)\n\u001b[1;32m     15\u001b[0m HUGGINGFACE_TOKEN \u001b[38;5;241m=\u001b[39m tokens[\u001b[38;5;124m\"\u001b[39m\u001b[38;5;124mHUGGINGFACE_TOKEN\u001b[39m\u001b[38;5;124m\"\u001b[39m]\n",
      "File \u001b[0;32m~/anaconda3/lib/python3.11/site-packages/IPython/core/interactiveshell.py:284\u001b[0m, in \u001b[0;36m_modified_open\u001b[0;34m(file, *args, **kwargs)\u001b[0m\n\u001b[1;32m    277\u001b[0m \u001b[38;5;28;01mif\u001b[39;00m file \u001b[38;5;129;01min\u001b[39;00m {\u001b[38;5;241m0\u001b[39m, \u001b[38;5;241m1\u001b[39m, \u001b[38;5;241m2\u001b[39m}:\n\u001b[1;32m    278\u001b[0m     \u001b[38;5;28;01mraise\u001b[39;00m \u001b[38;5;167;01mValueError\u001b[39;00m(\n\u001b[1;32m    279\u001b[0m         \u001b[38;5;124mf\u001b[39m\u001b[38;5;124m\"\u001b[39m\u001b[38;5;124mIPython won\u001b[39m\u001b[38;5;124m'\u001b[39m\u001b[38;5;124mt let you open fd=\u001b[39m\u001b[38;5;132;01m{\u001b[39;00mfile\u001b[38;5;132;01m}\u001b[39;00m\u001b[38;5;124m by default \u001b[39m\u001b[38;5;124m\"\u001b[39m\n\u001b[1;32m    280\u001b[0m         \u001b[38;5;124m\"\u001b[39m\u001b[38;5;124mas it is likely to crash IPython. If you know what you are doing, \u001b[39m\u001b[38;5;124m\"\u001b[39m\n\u001b[1;32m    281\u001b[0m         \u001b[38;5;124m\"\u001b[39m\u001b[38;5;124myou can use builtins\u001b[39m\u001b[38;5;124m'\u001b[39m\u001b[38;5;124m open.\u001b[39m\u001b[38;5;124m\"\u001b[39m\n\u001b[1;32m    282\u001b[0m     )\n\u001b[0;32m--> 284\u001b[0m \u001b[38;5;28;01mreturn\u001b[39;00m io_open(file, \u001b[38;5;241m*\u001b[39margs, \u001b[38;5;241m*\u001b[39m\u001b[38;5;241m*\u001b[39mkwargs)\n",
      "\u001b[0;31mFileNotFoundError\u001b[0m: [Errno 2] No such file or directory: 'tokens.json'"
     ]
    }
   ],
   "source": [
    "import json\n",
    "import os\n",
    "import shutil\n",
    "from transformers import DistilBertForSequenceClassification, DistilBertTokenizer\n",
    "from huggingface_hub import create_repo, login, whoami\n",
    "import os\n",
    "import shutil\n",
    "from git import Repo\n",
    "from git.exc import GitCommandError\n",
    "\n",
    "\n",
    "with open(\"tokens.json\", \"r\") as f:\n",
    "    tokens = json.load(f)\n",
    "\n",
    "HUGGINGFACE_TOKEN = tokens[\"HUGGINGFACE_TOKEN\"]\n",
    "GITHUB_TOKEN = tokens[\"GITHUB_TOKEN\"]\n",
    "\n",
    "# --- Configuration ---\n",
    "MODEL_DIR = \"./final_model\"\n",
    "GITHUB_REPO_PATH = \"/Users/adekunleajibode/Documents/GH_repo/distilbert-base-uncased-not-usable-code\"\n",
    "HUGGINGFACE_REPO_NAME = \"distilbert-base-uncased-not-usable\"\n",
    "GITHUB_COMMIT_MESSAGE = \"Auto-push: Updated notebooks\"\n",
    "HUGGINGFACE_COMMIT_MESSAGE = \"Upload fine-tuned model\"\n",
    "\n",
    "# --- Hugging Face Auth + Upload ---\n",
    "login(token=HUGGINGFACE_TOKEN)\n",
    "print(f\"Logged in as: {whoami()['name']}\")\n",
    "create_repo(HUGGINGFACE_REPO_NAME, exist_ok=True)\n",
    "\n",
    "model = DistilBertForSequenceClassification.from_pretrained(MODEL_DIR)\n",
    "tokenizer = DistilBertTokenizer.from_pretrained(MODEL_DIR)\n",
    "\n",
    "model.push_to_hub(HUGGINGFACE_REPO_NAME, commit_message=HUGGINGFACE_COMMIT_MESSAGE)\n",
    "tokenizer.push_to_hub(HUGGINGFACE_REPO_NAME, commit_message=HUGGINGFACE_COMMIT_MESSAGE)\n",
    "print(\"✅ Model and tokenizer pushed to Hugging Face.\")\n",
    "\n",
    "# --- GitHub Notebook File Sync ---\n",
    "# Get current directory notebook files\n",
    "current_notebooks = [f for f in os.listdir() if f.endswith(\".ipynb\")]\n",
    "\n",
    "# Replace files in GitHub repo\n",
    "for nb in current_notebooks:\n",
    "    src = os.path.join(os.getcwd(), nb)\n",
    "    dst = os.path.join(GITHUB_REPO_PATH, nb)\n",
    "    if os.path.exists(dst):\n",
    "        os.remove(dst)\n",
    "        print(f\"Removed existing file: {dst}\")\n",
    "    shutil.copy(src, dst)\n",
    "    print(f\"Copied {nb} to GitHub repository.\")\n",
    "\n",
    "# --- GitHub Commit & Push ---\n",
    "os.chdir(GITHUB_REPO_PATH)\n",
    "os.system(\"git init\")\n",
    "os.system(\"git add .\")\n",
    "os.system(f'git commit -m \"{GITHUB_COMMIT_MESSAGE}\"')\n",
    "os.system(\"git branch -M main\")\n",
    "os.system(\"git remote remove origin || true\")\n",
    "os.system(\"git remote add origin https://github.com/eyinlojuoluwa/distilbert-base-uncased-not-usable-code.git\")\n",
    "os.system(\"git push -u origin main\")\n",
    "print(\"✅ Code pushed to GitHub.\")"
   ]
  },
  {
   "cell_type": "code",
   "execution_count": null,
   "id": "de557e45",
   "metadata": {},
   "outputs": [],
   "source": []
  },
  {
   "cell_type": "code",
   "execution_count": null,
   "id": "0a50c990",
   "metadata": {},
   "outputs": [],
   "source": []
  },
  {
   "cell_type": "code",
   "execution_count": null,
   "id": "4f2e4f79",
   "metadata": {},
   "outputs": [],
   "source": []
  },
  {
   "cell_type": "code",
   "execution_count": null,
   "id": "e4816bcc",
   "metadata": {},
   "outputs": [],
   "source": []
  },
  {
   "cell_type": "code",
   "execution_count": null,
   "id": "8f707b0c",
   "metadata": {},
   "outputs": [],
   "source": []
  },
  {
   "cell_type": "code",
   "execution_count": null,
   "id": "903c5b17",
   "metadata": {},
   "outputs": [],
   "source": []
  },
  {
   "cell_type": "code",
   "execution_count": null,
   "id": "3a63f507",
   "metadata": {},
   "outputs": [],
   "source": []
  },
  {
   "cell_type": "code",
   "execution_count": 1,
   "id": "82e32b3a",
   "metadata": {},
   "outputs": [
    {
     "name": "stdout",
     "output_type": "stream",
     "text": [
      "/Users/adekunleajibode/Paper2\n"
     ]
    }
   ],
   "source": [
    "import os\n",
    "print(os.getcwd())"
   ]
  },
  {
   "cell_type": "code",
   "execution_count": null,
   "id": "7fc91807",
   "metadata": {},
   "outputs": [],
   "source": []
  },
  {
   "cell_type": "code",
   "execution_count": null,
   "id": "d7ad9e69",
   "metadata": {},
   "outputs": [],
   "source": []
  },
  {
   "cell_type": "code",
   "execution_count": null,
   "id": "c96a737c",
   "metadata": {},
   "outputs": [],
   "source": []
  },
  {
   "cell_type": "code",
   "execution_count": null,
   "id": "35891d77",
   "metadata": {},
   "outputs": [],
   "source": []
  },
  {
   "cell_type": "code",
   "execution_count": null,
   "id": "de66fadb",
   "metadata": {},
   "outputs": [],
   "source": []
  },
  {
   "cell_type": "code",
   "execution_count": null,
   "id": "3699007e",
   "metadata": {},
   "outputs": [],
   "source": [
    "ls /Users/your_username/Documents/GH_repo/distilbert-base-uncased-not-usable-code/.git"
   ]
  },
  {
   "cell_type": "code",
   "execution_count": null,
   "id": "4debeda6",
   "metadata": {},
   "outputs": [],
   "source": [
    "import os\n",
    "\n",
    "# Define the path\n",
    "repo_path = \"/Users/adekunleajibode/Documents/GH_repo/distilbert-base-uncased-not-usable-code\"\n",
    "\n",
    "# List files in the directory\n",
    "files = os.listdir(repo_path)\n",
    "print(files)"
   ]
  },
  {
   "cell_type": "code",
   "execution_count": null,
   "id": "81fc6b9a",
   "metadata": {},
   "outputs": [],
   "source": []
  },
  {
   "cell_type": "code",
   "execution_count": null,
   "id": "8aa3fb8c",
   "metadata": {},
   "outputs": [],
   "source": [
    "repo_name = \"distilbert-base-uncased-not-usable\"  # Change this to your preferred repository name\n",
    "create_repo(repo_name)\n",
    "\n",
    "# Replace these with your actual paths\n",
    "model_dir = \"./final_model\"\n",
    "\n",
    "# Push model, tokenizer, and config to Hugging Face Hub\n",
    "model = DistilBertForSequenceClassification.from_pretrained(model_dir)\n",
    "tokenizer = DistilBertTokenizer.from_pretrained(model_dir)\n",
    "\n",
    "model.push_to_hub(repo_name)\n",
    "tokenizer.push_to_hub(repo_name)"
   ]
  },
  {
   "cell_type": "code",
   "execution_count": null,
   "id": "1a03f49f",
   "metadata": {},
   "outputs": [],
   "source": []
  },
  {
   "cell_type": "code",
   "execution_count": null,
   "id": "fb565945",
   "metadata": {},
   "outputs": [],
   "source": []
  },
  {
   "cell_type": "code",
   "execution_count": null,
   "id": "1266a9a7",
   "metadata": {},
   "outputs": [],
   "source": []
  },
  {
   "cell_type": "code",
   "execution_count": null,
   "id": "a151358a",
   "metadata": {},
   "outputs": [],
   "source": []
  }
 ],
 "metadata": {
  "kernelspec": {
   "display_name": "Python 3 (ipykernel)",
   "language": "python",
   "name": "python3"
  },
  "language_info": {
   "codemirror_mode": {
    "name": "ipython",
    "version": 3
   },
   "file_extension": ".py",
   "mimetype": "text/x-python",
   "name": "python",
   "nbconvert_exporter": "python",
   "pygments_lexer": "ipython3",
   "version": "3.11.4"
  }
 },
 "nbformat": 4,
 "nbformat_minor": 5
}
