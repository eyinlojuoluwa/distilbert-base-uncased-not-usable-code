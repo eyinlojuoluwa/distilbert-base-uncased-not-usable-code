{
 "cells": [
  {
   "cell_type": "code",
   "execution_count": null,
   "id": "56aa096a",
   "metadata": {},
   "outputs": [],
   "source": [
    "import pandas as pd\n",
    "import torch\n",
    "import torch.nn as nn\n",
    "import numpy as np\n",
    "import re\n",
    "from transformers import AutoTokenizer, DistilBertTokenizer, DistilBertForSequenceClassification, AutoModelForSequenceClassification, Trainer, TrainingArguments, DistilBertConfig\n",
    "from datasets import Dataset\n",
    "from sklearn.model_selection import train_test_split\n",
    "from sklearn.preprocessing import LabelEncoder\n",
    "from sklearn.metrics import accuracy_score, precision_recall_fscore_support\n",
    "from sklearn.utils.class_weight import compute_class_weight\n",
    "import matplotlib.pyplot as plt\n",
    "from nltk.corpus import wordnet\n",
    "import random\n",
    "from imblearn.over_sampling import SMOTE\n",
    "from sklearn.feature_extraction.text import TfidfVectorizer\n",
    "from torch.nn import CrossEntropyLoss\n",
    "import nltk\n",
    "from transformers import DistilBertTokenizer\n",
    "from sklearn.metrics import classification_report\n",
    "from huggingface_hub import create_repo\n",
    "import os\n",
    "from git import Repo  # For interacting with Git\n",
    "from huggingface_hub import HfApi\n",
    "import shutil"
   ]
  },
  {
   "cell_type": "code",
   "execution_count": null,
   "id": "b5393f37",
   "metadata": {},
   "outputs": [],
   "source": [
    "!cd \"/Users/adekunleajibode/Documents/GH_repo/distilbert-base-uncased-not-usable-code\" && git init\n",
    "!cd \"/Users/adekunleajibode/Documents/GH_repo/distilbert-base-uncased-not-usable-code\" && git add .\n",
    "\n",
    "!cd \"/Users/adekunleajibode/Documents/GH_repo/distilbert-base-uncased-not-usable-code\" && git commit -m \"Initial commit\"\n",
    "!cd \"/Users/adekunleajibode/Documents/GH_repo/distilbert-base-uncased-not-usable-code\" && git remote add origin https://github.com/eyinlojuoluwa/distilbert-base-uncased-not-usable-code.git\n",
    "!cd \"/Users/adekunleajibode/Documents/GH_repo/distilbert-base-uncased-not-usable-code\" && git push -u origin main"
   ]
  },
  {
   "cell_type": "code",
   "execution_count": 1,
   "id": "8734540c",
   "metadata": {},
   "outputs": [
    {
     "name": "stdout",
     "output_type": "stream",
     "text": [
      "Logged in as: eyinlojuoluwa\n"
     ]
    },
    {
     "name": "stderr",
     "output_type": "stream",
     "text": [
      "No files have been modified since last commit. Skipping to prevent empty commit.\n",
      "No files have been modified since last commit. Skipping to prevent empty commit.\n"
     ]
    },
    {
     "name": "stdout",
     "output_type": "stream",
     "text": [
      "✅ Model and tokenizer pushed to Hugging Face.\n",
      "Removed existing file: /Users/adekunleajibode/Documents/GH_repo/distilbert-base-uncased-not-usable-code/sync_tool.ipynb\n",
      "Copied sync_tool.ipynb to GitHub repository.\n",
      "Removed existing file: /Users/adekunleajibode/Documents/GH_repo/distilbert-base-uncased-not-usable-code/Untitled1.ipynb\n",
      "Copied Untitled1.ipynb to GitHub repository.\n",
      "Removed existing file: /Users/adekunleajibode/Documents/GH_repo/distilbert-base-uncased-not-usable-code/learning.ipynb\n",
      "Copied learning.ipynb to GitHub repository.\n",
      "Removed existing file: /Users/adekunleajibode/Documents/GH_repo/distilbert-base-uncased-not-usable-code/Untitled.ipynb\n",
      "Copied Untitled.ipynb to GitHub repository.\n",
      "Removed existing file: /Users/adekunleajibode/Documents/GH_repo/distilbert-base-uncased-not-usable-code/labels.ipynb\n",
      "Copied labels.ipynb to GitHub repository.\n",
      "Removed existing file: /Users/adekunleajibode/Documents/GH_repo/distilbert-base-uncased-not-usable-code/Finetune.ipynb\n",
      "Copied Finetune.ipynb to GitHub repository.\n",
      "Removed existing file: /Users/adekunleajibode/Documents/GH_repo/distilbert-base-uncased-not-usable-code/rough.ipynb\n",
      "Copied rough.ipynb to GitHub repository.\n",
      "Removed existing file: /Users/adekunleajibode/Documents/GH_repo/distilbert-base-uncased-not-usable-code/data_combiner.ipynb\n",
      "Copied data_combiner.ipynb to GitHub repository.\n",
      "Removed existing file: /Users/adekunleajibode/Documents/GH_repo/distilbert-base-uncased-not-usable-code/Finetuning_distilbert.ipynb\n",
      "Copied Finetuning_distilbert.ipynb to GitHub repository.\n",
      "Removed existing file: /Users/adekunleajibode/Documents/GH_repo/distilbert-base-uncased-not-usable-code/Finetune2.ipynb\n",
      "Copied Finetune2.ipynb to GitHub repository.\n",
      "Removed existing file: /Users/adekunleajibode/Documents/GH_repo/distilbert-base-uncased-not-usable-code/Finetune_practice.ipynb\n",
      "Copied Finetune_practice.ipynb to GitHub repository.\n",
      "Removed existing file: /Users/adekunleajibode/Documents/GH_repo/distilbert-base-uncased-not-usable-code/Finetune3.ipynb\n",
      "Copied Finetune3.ipynb to GitHub repository.\n",
      "Removed existing file: /Users/adekunleajibode/Documents/GH_repo/distilbert-base-uncased-not-usable-code/tokens.ipynb\n",
      "Copied tokens.ipynb to GitHub repository.\n",
      "Reinitialized existing Git repository in /Users/adekunleajibode/Documents/GH_repo/distilbert-base-uncased-not-usable-code/.git/\n",
      "[main 15828b7] Auto-push: Updated notebooks\n",
      " 2 files changed, 94 insertions(+), 241 deletions(-)\n",
      "✅ Code pushed to GitHub.\n"
     ]
    },
    {
     "name": "stderr",
     "output_type": "stream",
     "text": [
      "remote: error: GH013: Repository rule violations found for refs/heads/main.        \n",
      "remote: \n",
      "remote: - GITHUB PUSH PROTECTION        \n",
      "remote:   —————————————————————————————————————————        \n",
      "remote:     Resolve the following violations before pushing again        \n",
      "remote: \n",
      "remote:     - Push cannot contain secrets        \n",
      "remote: \n",
      "remote:             \n",
      "remote:      (?) Learn how to resolve a blocked push        \n",
      "remote:      https://docs.github.com/code-security/secret-scanning/working-with-secret-scanning-and-push-protection/working-with-push-protection-from-the-command-line#resolving-a-blocked-push        \n",
      "remote:             \n",
      "remote:             \n",
      "remote:       —— Hugging Face User Access Token ————————————————————        \n",
      "remote:        locations:        \n",
      "remote:          - commit: 70ed73b3d4582737f7981788e1f2e62c9bb3423e        \n",
      "remote:            path: sync_tool.ipynb:47        \n",
      "remote:          - commit: f97be82bdeaa57585e1e2bb6ef828a2c4cf999cc        \n",
      "remote:            path: sync_tool.ipynb:47        \n",
      "remote:          - commit: 70ed73b3d4582737f7981788e1f2e62c9bb3423e        \n",
      "remote:            path: sync_tool.ipynb:124        \n",
      "remote:          - commit: 70ed73b3d4582737f7981788e1f2e62c9bb3423e        \n",
      "remote:            path: sync_tool.ipynb:287        \n",
      "remote:          - commit: 70ed73b3d4582737f7981788e1f2e62c9bb3423e        \n",
      "remote:            path: sync_tool.ipynb:403        \n",
      "remote:             \n",
      "remote:        (?) To push, remove secret from commit(s) or follow this URL to allow the secret.        \n",
      "remote:        https://github.com/eyinlojuoluwa/distilbert-base-uncased-not-usable-code/security/secret-scanning/unblock-secret/2wSui6kZ90Xu6xvO5x4p8CTzBCl        \n",
      "remote:             \n",
      "remote:             \n",
      "remote:       —— GitHub Personal Access Token ——————————————————————        \n",
      "remote:        locations:        \n",
      "remote:          - commit: f97be82bdeaa57585e1e2bb6ef828a2c4cf999cc        \n",
      "remote:            path: sync_tool.ipynb:72        \n",
      "remote:          - commit: 70ed73b3d4582737f7981788e1f2e62c9bb3423e        \n",
      "remote:            path: sync_tool.ipynb:125        \n",
      "remote:          - commit: f97be82bdeaa57585e1e2bb6ef828a2c4cf999cc        \n",
      "remote:            path: sync_tool.ipynb:178        \n",
      "remote:          - commit: 70ed73b3d4582737f7981788e1f2e62c9bb3423e        \n",
      "remote:            path: sync_tool.ipynb:231        \n",
      "remote:          - commit: 70ed73b3d4582737f7981788e1f2e62c9bb3423e        \n",
      "remote:            path: sync_tool.ipynb:288        \n",
      "remote:             \n",
      "remote:        (?) To push, remove secret from commit(s) or follow this URL to allow the secret.        \n",
      "remote:        https://github.com/eyinlojuoluwa/distilbert-base-uncased-not-usable-code/security/secret-scanning/unblock-secret/2wSwl8ryCSBLghU7uihZr6E1Dw6        \n",
      "remote:             \n",
      "remote: \n",
      "remote: \n",
      "To https://github.com/eyinlojuoluwa/distilbert-base-uncased-not-usable-code.git\n",
      " ! [remote rejected] main -> main (push declined due to repository rule violations)\n",
      "error: failed to push some refs to 'https://github.com/eyinlojuoluwa/distilbert-base-uncased-not-usable-code.git'\n"
     ]
    }
   ],
   "source": [
    "import json\n",
    "import os\n",
    "import shutil\n",
    "from transformers import DistilBertForSequenceClassification, DistilBertTokenizer\n",
    "from huggingface_hub import create_repo, login, whoami\n",
    "import os\n",
    "import shutil\n",
    "from git import Repo\n",
    "from git.exc import GitCommandError\n",
    "\n",
    "\n",
    "with open(\"tokens.json\", \"r\") as f:\n",
    "    tokens = json.load(f)\n",
    "\n",
    "HUGGINGFACE_TOKEN = tokens[\"HUGGINGFACE_TOKEN\"]\n",
    "GITHUB_TOKEN = tokens[\"GITHUB_TOKEN\"]\n",
    "\n",
    "# --- Configuration ---\n",
    "MODEL_DIR = \"./final_model\"\n",
    "GITHUB_REPO_PATH = \"/Users/adekunleajibode/Documents/GH_repo/distilbert-base-uncased-not-usable-code\"\n",
    "HUGGINGFACE_REPO_NAME = \"distilbert-base-uncased-not-usable\"\n",
    "GITHUB_COMMIT_MESSAGE = \"Auto-push: Updated notebooks\"\n",
    "HUGGINGFACE_COMMIT_MESSAGE = \"Upload fine-tuned model\"\n",
    "\n",
    "# --- Hugging Face Auth + Upload ---\n",
    "login(token=HUGGINGFACE_TOKEN)\n",
    "print(f\"Logged in as: {whoami()['name']}\")\n",
    "create_repo(HUGGINGFACE_REPO_NAME, exist_ok=True)\n",
    "\n",
    "model = DistilBertForSequenceClassification.from_pretrained(MODEL_DIR)\n",
    "tokenizer = DistilBertTokenizer.from_pretrained(MODEL_DIR)\n",
    "\n",
    "model.push_to_hub(HUGGINGFACE_REPO_NAME, commit_message=HUGGINGFACE_COMMIT_MESSAGE)\n",
    "tokenizer.push_to_hub(HUGGINGFACE_REPO_NAME, commit_message=HUGGINGFACE_COMMIT_MESSAGE)\n",
    "print(\"✅ Model and tokenizer pushed to Hugging Face.\")\n",
    "\n",
    "# --- GitHub Notebook File Sync ---\n",
    "# Get current directory notebook files\n",
    "current_notebooks = [f for f in os.listdir() if f.endswith(\".ipynb\")]\n",
    "\n",
    "# Replace files in GitHub repo\n",
    "for nb in current_notebooks:\n",
    "    src = os.path.join(os.getcwd(), nb)\n",
    "    dst = os.path.join(GITHUB_REPO_PATH, nb)\n",
    "    if os.path.exists(dst):\n",
    "        os.remove(dst)\n",
    "        print(f\"Removed existing file: {dst}\")\n",
    "    shutil.copy(src, dst)\n",
    "    print(f\"Copied {nb} to GitHub repository.\")\n",
    "\n",
    "# --- GitHub Commit & Push ---\n",
    "os.chdir(GITHUB_REPO_PATH)\n",
    "os.system(\"git init\")\n",
    "os.system(\"git add .\")\n",
    "os.system(f'git commit -m \"{GITHUB_COMMIT_MESSAGE}\"')\n",
    "os.system(\"git branch -M main\")\n",
    "os.system(\"git remote remove origin || true\")\n",
    "os.system(\"git remote add origin https://github.com/eyinlojuoluwa/distilbert-base-uncased-not-usable-code.git\")\n",
    "os.system(\"git push -u origin main\")\n",
    "print(\"✅ Code pushed to GitHub.\")"
   ]
  },
  {
   "cell_type": "code",
   "execution_count": null,
   "id": "0b331577",
   "metadata": {},
   "outputs": [],
   "source": []
  },
  {
   "cell_type": "code",
   "execution_count": null,
   "id": "53f76bdb",
   "metadata": {},
   "outputs": [],
   "source": []
  },
  {
   "cell_type": "code",
   "execution_count": null,
   "id": "af101bfc",
   "metadata": {},
   "outputs": [],
   "source": []
  },
  {
   "cell_type": "code",
   "execution_count": null,
   "id": "0e9f47f2",
   "metadata": {},
   "outputs": [],
   "source": []
  },
  {
   "cell_type": "code",
   "execution_count": null,
   "id": "08b3ded4",
   "metadata": {},
   "outputs": [],
   "source": []
  },
  {
   "cell_type": "code",
   "execution_count": null,
   "id": "0cb1cad5",
   "metadata": {},
   "outputs": [],
   "source": []
  },
  {
   "cell_type": "code",
   "execution_count": null,
   "id": "efccaf48",
   "metadata": {},
   "outputs": [],
   "source": []
  },
  {
   "cell_type": "code",
   "execution_count": null,
   "id": "48792b88",
   "metadata": {},
   "outputs": [],
   "source": [
    "import os\n",
    "print(os.getcwd())"
   ]
  },
  {
   "cell_type": "code",
   "execution_count": null,
   "id": "28b6bb17",
   "metadata": {},
   "outputs": [],
   "source": []
  },
  {
   "cell_type": "code",
   "execution_count": null,
   "id": "1ca3e4af",
   "metadata": {},
   "outputs": [],
   "source": []
  },
  {
   "cell_type": "code",
   "execution_count": null,
   "id": "cb6e4d9e",
   "metadata": {},
   "outputs": [],
   "source": []
  },
  {
   "cell_type": "code",
   "execution_count": null,
   "id": "874e1010",
   "metadata": {},
   "outputs": [],
   "source": []
  },
  {
   "cell_type": "code",
   "execution_count": null,
   "id": "7651803a",
   "metadata": {},
   "outputs": [],
   "source": []
  },
  {
   "cell_type": "code",
   "execution_count": null,
   "id": "63a92b6b",
   "metadata": {},
   "outputs": [],
   "source": [
    "ls /Users/your_username/Documents/GH_repo/distilbert-base-uncased-not-usable-code/.git"
   ]
  },
  {
   "cell_type": "code",
   "execution_count": null,
   "id": "274838b6",
   "metadata": {},
   "outputs": [],
   "source": [
    "import os\n",
    "\n",
    "# Define the path\n",
    "repo_path = \"/Users/adekunleajibode/Documents/GH_repo/distilbert-base-uncased-not-usable-code\"\n",
    "\n",
    "# List files in the directory\n",
    "files = os.listdir(repo_path)\n",
    "print(files)"
   ]
  },
  {
   "cell_type": "code",
   "execution_count": null,
   "id": "4edb7e15",
   "metadata": {},
   "outputs": [],
   "source": []
  },
  {
   "cell_type": "code",
   "execution_count": null,
   "id": "ab4332fb",
   "metadata": {},
   "outputs": [],
   "source": [
    "repo_name = \"distilbert-base-uncased-not-usable\"  # Change this to your preferred repository name\n",
    "create_repo(repo_name)\n",
    "\n",
    "# Replace these with your actual paths\n",
    "model_dir = \"./final_model\"\n",
    "\n",
    "# Push model, tokenizer, and config to Hugging Face Hub\n",
    "model = DistilBertForSequenceClassification.from_pretrained(model_dir)\n",
    "tokenizer = DistilBertTokenizer.from_pretrained(model_dir)\n",
    "\n",
    "model.push_to_hub(repo_name)\n",
    "tokenizer.push_to_hub(repo_name)"
   ]
  },
  {
   "cell_type": "code",
   "execution_count": null,
   "id": "5644d512",
   "metadata": {},
   "outputs": [],
   "source": []
  },
  {
   "cell_type": "code",
   "execution_count": null,
   "id": "fddd53ca",
   "metadata": {},
   "outputs": [],
   "source": []
  },
  {
   "cell_type": "code",
   "execution_count": null,
   "id": "a310c8a6",
   "metadata": {},
   "outputs": [],
   "source": []
  },
  {
   "cell_type": "code",
   "execution_count": null,
   "id": "487d9128",
   "metadata": {},
   "outputs": [],
   "source": []
  }
 ],
 "metadata": {
  "kernelspec": {
   "display_name": "Python 3 (ipykernel)",
   "language": "python",
   "name": "python3"
  },
  "language_info": {
   "codemirror_mode": {
    "name": "ipython",
    "version": 3
   },
   "file_extension": ".py",
   "mimetype": "text/x-python",
   "name": "python",
   "nbconvert_exporter": "python",
   "pygments_lexer": "ipython3",
   "version": "3.11.4"
  }
 },
 "nbformat": 4,
 "nbformat_minor": 5
}
