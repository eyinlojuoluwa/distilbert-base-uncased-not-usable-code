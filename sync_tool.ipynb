{
 "cells": [
  {
   "cell_type": "code",
   "execution_count": 1,
   "id": "764a3271",
   "metadata": {},
   "outputs": [
    {
     "ename": "NameError",
     "evalue": "name 'huggingface_token' is not defined",
     "output_type": "error",
     "traceback": [
      "\u001b[0;31m---------------------------------------------------------------------------\u001b[0m",
      "\u001b[0;31mNameError\u001b[0m                                 Traceback (most recent call last)",
      "Cell \u001b[0;32mIn[1], line 17\u001b[0m\n\u001b[1;32m     14\u001b[0m GITHUB_TOKEN \u001b[38;5;241m=\u001b[39m os\u001b[38;5;241m.\u001b[39mgetenv(\u001b[38;5;124m\"\u001b[39m\u001b[38;5;124mGITHUB_TOKEN\u001b[39m\u001b[38;5;124m\"\u001b[39m)\n\u001b[1;32m     16\u001b[0m \u001b[38;5;66;03m# Now you can use the tokens in your code\u001b[39;00m\n\u001b[0;32m---> 17\u001b[0m \u001b[38;5;28mprint\u001b[39m(\u001b[38;5;124m\"\u001b[39m\u001b[38;5;124mHugging Face Token:\u001b[39m\u001b[38;5;124m\"\u001b[39m, huggingface_token)\n\u001b[1;32m     18\u001b[0m \u001b[38;5;28mprint\u001b[39m(\u001b[38;5;124m\"\u001b[39m\u001b[38;5;124mGitHub Token:\u001b[39m\u001b[38;5;124m\"\u001b[39m, github_token)\n\u001b[1;32m     20\u001b[0m \u001b[38;5;66;03m# --- Configuration ---\u001b[39;00m\n",
      "\u001b[0;31mNameError\u001b[0m: name 'huggingface_token' is not defined"
     ]
    }
   ],
   "source": [
    "import json\n",
    "import os\n",
    "import shutil\n",
    "from transformers import DistilBertForSequenceClassification, DistilBertTokenizer\n",
    "from huggingface_hub import create_repo, login, whoami\n",
    "import os\n",
    "import shutil\n",
    "from git import Repo\n",
    "from git.exc import GitCommandError\n",
    "\n",
    "\n",
    "# Get the tokens from the environment variables\n",
    "HUGGINGFACE_TOKEN = os.getenv(\"HUGGINGFACE_TOKEN\")\n",
    "GITHUB_TOKEN = os.getenv(\"GITHUB_TOKEN\")\n",
    "\n",
    "# Now you can use the tokens in your code\n",
    "print(\"Hugging Face Token:\", huggingface_token)\n",
    "print(\"GitHub Token:\", github_token)\n",
    "\n",
    "# --- Configuration ---\n",
    "MODEL_DIR = \"./final_model\"\n",
    "GITHUB_REPO_PATH = \"/Users/adekunleajibode/Documents/GH_repo/distilbert-base-uncased-not-usable-code\"\n",
    "HUGGINGFACE_REPO_NAME = \"distilbert-base-uncased-not-usable\"\n",
    "GITHUB_COMMIT_MESSAGE = \"Auto-push: Updated notebooks\"\n",
    "HUGGINGFACE_COMMIT_MESSAGE = \"Upload fine-tuned model\"\n",
    "\n",
    "# --- Hugging Face Auth + Upload ---\n",
    "login(token=HUGGINGFACE_TOKEN)\n",
    "print(f\"Logged in as: {whoami()['name']}\")\n",
    "create_repo(HUGGINGFACE_REPO_NAME, exist_ok=True)\n",
    "\n",
    "model = DistilBertForSequenceClassification.from_pretrained(MODEL_DIR)\n",
    "tokenizer = DistilBertTokenizer.from_pretrained(MODEL_DIR)\n",
    "\n",
    "model.push_to_hub(HUGGINGFACE_REPO_NAME, commit_message=HUGGINGFACE_COMMIT_MESSAGE)\n",
    "tokenizer.push_to_hub(HUGGINGFACE_REPO_NAME, commit_message=HUGGINGFACE_COMMIT_MESSAGE)\n",
    "print(\"✅ Model and tokenizer pushed to Hugging Face.\")\n",
    "\n",
    "# --- GitHub Notebook File Sync ---\n",
    "# Specify the exact notebook file to push (change this as needed)\n",
    "notebook_to_push = \"sync_tool.ipynb\"  # Specify the exact file here\n",
    "\n",
    "# Replace the file in the GitHub repo\n",
    "src = os.path.join(os.getcwd(), notebook_to_push)\n",
    "dst = os.path.join(GITHUB_REPO_PATH, notebook_to_push)\n",
    "\n",
    "if os.path.exists(dst):\n",
    "    os.remove(dst)\n",
    "    print(f\"Removed existing file: {dst}\")\n",
    "shutil.copy(src, dst)\n",
    "print(f\"Copied {notebook_to_push} to GitHub repository.\")\n",
    "\n",
    "# --- GitHub Commit & Push ---\n",
    "os.chdir(GITHUB_REPO_PATH)\n",
    "os.system(\"git init\")\n",
    "os.system(\"git add .\")\n",
    "os.system(f'git commit -m \"{GITHUB_COMMIT_MESSAGE}\"')\n",
    "os.system(\"git branch -M main\")\n",
    "os.system(\"git remote remove origin || true\")\n",
    "os.system(\"git remote add origin https://github.com/eyinlojuoluwa/distilbert-base-uncased-not-usable-code.git\")\n",
    "os.system(\"git push -u origin main\")\n",
    "print(\"✅ Code pushed to GitHub.\")\n"
   ]
  },
  {
   "cell_type": "code",
   "execution_count": null,
   "id": "d934a19b",
   "metadata": {},
   "outputs": [],
   "source": []
  },
  {
   "cell_type": "code",
   "execution_count": null,
   "id": "9a2d3213",
   "metadata": {},
   "outputs": [],
   "source": []
  }
 ],
 "metadata": {
  "kernelspec": {
   "display_name": "Python 3 (ipykernel)",
   "language": "python",
   "name": "python3"
  },
  "language_info": {
   "codemirror_mode": {
    "name": "ipython",
    "version": 3
   },
   "file_extension": ".py",
   "mimetype": "text/x-python",
   "name": "python",
   "nbconvert_exporter": "python",
   "pygments_lexer": "ipython3",
   "version": "3.11.4"
  }
 },
 "nbformat": 4,
 "nbformat_minor": 5
}
