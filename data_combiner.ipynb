{
 "cells": [
  {
   "cell_type": "code",
   "execution_count": 14,
   "id": "2c0b7063",
   "metadata": {},
   "outputs": [],
   "source": [
    "import pandas as pd"
   ]
  },
  {
   "cell_type": "code",
   "execution_count": 15,
   "id": "64ad2c29",
   "metadata": {},
   "outputs": [],
   "source": [
    "df1 = pd.read_csv(\"dataset/GH_commit_10_10.csv\")\n",
    "df2 = pd.read_csv(\"dataset/HF_commit_10_10.csv\")"
   ]
  },
  {
   "cell_type": "code",
   "execution_count": 16,
   "id": "a318b5fa",
   "metadata": {},
   "outputs": [],
   "source": [
    "GH = df1[[\"owner\", \"commit_message\", \"manual_categories\"]]\n",
    "HF = df2[[\"owner\", \"combined\", \"manual_classification\"]]\n",
    "\n",
    "GH = GH.rename(columns={\"commit_message\": \"message\", \"manual_categories\": \"label\"})\n",
    "\n",
    "HF = HF.rename(columns={\"combined\": \"message\", \"manual_classification\": \"label\"})\n",
    "\n",
    "combined_df = pd.concat([GH, HF], ignore_index=True)"
   ]
  },
  {
   "cell_type": "code",
   "execution_count": 17,
   "id": "dcc75103",
   "metadata": {},
   "outputs": [],
   "source": [
    "combined_df.to_csv(\"dataset/combined_GH_HF_manual.csv\", index=None)"
   ]
  },
  {
   "cell_type": "code",
   "execution_count": 18,
   "id": "b112d78b",
   "metadata": {},
   "outputs": [
    {
     "data": {
      "text/html": [
       "<div>\n",
       "<style scoped>\n",
       "    .dataframe tbody tr th:only-of-type {\n",
       "        vertical-align: middle;\n",
       "    }\n",
       "\n",
       "    .dataframe tbody tr th {\n",
       "        vertical-align: top;\n",
       "    }\n",
       "\n",
       "    .dataframe thead th {\n",
       "        text-align: right;\n",
       "    }\n",
       "</style>\n",
       "<table border=\"1\" class=\"dataframe\">\n",
       "  <thead>\n",
       "    <tr style=\"text-align: right;\">\n",
       "      <th></th>\n",
       "      <th>owner</th>\n",
       "      <th>message</th>\n",
       "      <th>label</th>\n",
       "    </tr>\n",
       "  </thead>\n",
       "  <tbody>\n",
       "    <tr>\n",
       "      <th>0</th>\n",
       "      <td>BAAI</td>\n",
       "      <td>Update evaluate_ssc.py</td>\n",
       "      <td>training infrastructure</td>\n",
       "    </tr>\n",
       "    <tr>\n",
       "      <th>1</th>\n",
       "      <td>microsoft</td>\n",
       "      <td>add dependency</td>\n",
       "      <td>add dependency</td>\n",
       "    </tr>\n",
       "    <tr>\n",
       "      <th>2</th>\n",
       "      <td>JackFram</td>\n",
       "      <td>[Python]: fix examples</td>\n",
       "      <td>external documentation</td>\n",
       "    </tr>\n",
       "    <tr>\n",
       "      <th>3</th>\n",
       "      <td>Langboat</td>\n",
       "      <td>add demo</td>\n",
       "      <td>external documentation</td>\n",
       "    </tr>\n",
       "    <tr>\n",
       "      <th>4</th>\n",
       "      <td>tner</td>\n",
       "      <td>add diagram</td>\n",
       "      <td>external documentation</td>\n",
       "    </tr>\n",
       "    <tr>\n",
       "      <th>...</th>\n",
       "      <td>...</td>\n",
       "      <td>...</td>\n",
       "      <td>...</td>\n",
       "    </tr>\n",
       "    <tr>\n",
       "      <th>1376</th>\n",
       "      <td>wonrax</td>\n",
       "      <td>Update README.md</td>\n",
       "      <td>external documentation</td>\n",
       "    </tr>\n",
       "    <tr>\n",
       "      <th>1377</th>\n",
       "      <td>wonrax</td>\n",
       "      <td>add tokenizer</td>\n",
       "      <td>preprocessing</td>\n",
       "    </tr>\n",
       "    <tr>\n",
       "      <th>1378</th>\n",
       "      <td>yahma</td>\n",
       "      <td>initial commit</td>\n",
       "      <td>project metadata</td>\n",
       "    </tr>\n",
       "    <tr>\n",
       "      <th>1379</th>\n",
       "      <td>yahma</td>\n",
       "      <td>Upload 8 files</td>\n",
       "      <td>preprocessing</td>\n",
       "    </tr>\n",
       "    <tr>\n",
       "      <th>1380</th>\n",
       "      <td>yahma</td>\n",
       "      <td>Create README.md</td>\n",
       "      <td>external documentation</td>\n",
       "    </tr>\n",
       "  </tbody>\n",
       "</table>\n",
       "<p>1381 rows × 3 columns</p>\n",
       "</div>"
      ],
      "text/plain": [
       "          owner                 message                    label\n",
       "0          BAAI  Update evaluate_ssc.py  training infrastructure\n",
       "1     microsoft          add dependency           add dependency\n",
       "2      JackFram  [Python]: fix examples   external documentation\n",
       "3      Langboat                add demo   external documentation\n",
       "4          tner             add diagram   external documentation\n",
       "...         ...                     ...                      ...\n",
       "1376     wonrax       Update README.md    external documentation\n",
       "1377     wonrax          add tokenizer             preprocessing\n",
       "1378      yahma         initial commit          project metadata\n",
       "1379      yahma         Upload 8 files             preprocessing\n",
       "1380      yahma       Create README.md    external documentation\n",
       "\n",
       "[1381 rows x 3 columns]"
      ]
     },
     "execution_count": 18,
     "metadata": {},
     "output_type": "execute_result"
    }
   ],
   "source": [
    "combined_df"
   ]
  },
  {
   "cell_type": "code",
   "execution_count": null,
   "id": "c64f9f6d",
   "metadata": {},
   "outputs": [],
   "source": []
  },
  {
   "cell_type": "code",
   "execution_count": null,
   "id": "732d1d60",
   "metadata": {},
   "outputs": [],
   "source": []
  }
 ],
 "metadata": {
  "kernelspec": {
   "display_name": "Python 3 (ipykernel)",
   "language": "python",
   "name": "python3"
  },
  "language_info": {
   "codemirror_mode": {
    "name": "ipython",
    "version": 3
   },
   "file_extension": ".py",
   "mimetype": "text/x-python",
   "name": "python",
   "nbconvert_exporter": "python",
   "pygments_lexer": "ipython3",
   "version": "3.11.4"
  }
 },
 "nbformat": 4,
 "nbformat_minor": 5
}
